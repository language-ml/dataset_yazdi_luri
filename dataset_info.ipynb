{
 "cells": [
  {
   "cell_type": "code",
   "execution_count": 40,
   "metadata": {},
   "outputs": [],
   "source": [
    "import collections"
   ]
  },
  {
   "cell_type": "markdown",
   "metadata": {},
   "source": [
    "# Yazdi"
   ]
  },
  {
   "cell_type": "code",
   "execution_count": 24,
   "metadata": {},
   "outputs": [],
   "source": [
    "with open(\"yazdi_farsi_dataset.csv\", \"r\") as f:\n",
    "    yazdi = [data.split(\", \") for data in f.read().split(\"\\n\")[1:-1]]"
   ]
  },
  {
   "cell_type": "code",
   "execution_count": 29,
   "metadata": {},
   "outputs": [
    {
     "data": {
      "text/plain": [
       "[['آب چَلَقون', 'آب چکان'],\n",
       " ['اَتفاری', 'اطواری'],\n",
       " ['اَتکَلَی', 'بی هدف - الکی']]"
      ]
     },
     "execution_count": 29,
     "metadata": {},
     "output_type": "execute_result"
    }
   ],
   "source": [
    "yazdi[:3]"
   ]
  },
  {
   "cell_type": "code",
   "execution_count": 41,
   "metadata": {},
   "outputs": [
    {
     "name": "stdout",
     "output_type": "stream",
     "text": [
      "7246 yazdi words.\n",
      "3611 unique yazdi words.\n",
      "10 Most common words in the yazdi dataset:\n",
      "\"و\" \"که\" \"تو\" \"را\" \"تا\" \"از\" \"به\" \"با\" \"این\" \"هم\"\n",
      "\n",
      "9391 farsi words.\n",
      "2774 unique farsi words.\n",
      "10 Most common words in the farsi dataset:\n",
      "\"و\" \"که\" \"را\" \"می\" \"به\" \"از\" \"هم\" \"در\" \"یک\" \"این\"\n"
     ]
    }
   ],
   "source": [
    "yazdi_words_counter = collections.Counter([word for ya_fa in yazdi for word in ya_fa[0].split()])\n",
    "farsi_words_counter = collections.Counter([word for ya_fa in yazdi for word in ya_fa[1].split()])\n",
    "\n",
    "print('{} yazdi words.'.format(len([word for ya_fa in yazdi for word in ya_fa[0].split()])))\n",
    "print('{} unique yazdi words.'.format(len(yazdi_words_counter)))\n",
    "print('10 Most common words in the yazdi dataset:')\n",
    "print('\"' + '\" \"'.join(list(zip(*yazdi_words_counter.most_common(10)))[0]) + '\"')\n",
    "print()\n",
    "print('{} farsi words.'.format(len([word for ya_fa in yazdi for word in ya_fa[1].split()])))\n",
    "print('{} unique farsi words.'.format(len(farsi_words_counter)))\n",
    "print('10 Most common words in the farsi dataset:')\n",
    "print('\"' + '\" \"'.join(list(zip(*farsi_words_counter.most_common(10)))[0]) + '\"')"
   ]
  },
  {
   "cell_type": "markdown",
   "metadata": {},
   "source": [
    "# Luri"
   ]
  },
  {
   "cell_type": "code",
   "execution_count": 32,
   "metadata": {},
   "outputs": [],
   "source": [
    "with open(\"lori_farsi_dataset.csv\", \"r\") as f:\n",
    "    luri = [data.split(\", \") for data in f.read().split(\"\\n\")[1:-1]]"
   ]
  },
  {
   "cell_type": "code",
   "execution_count": 33,
   "metadata": {},
   "outputs": [
    {
     "data": {
      "text/plain": [
       "[['آبادی بارکِه', 'آبادی کوچ کرد'],\n",
       " ['آخی مِن جونم ', 'آخ به جانم'],\n",
       " ['آخُ سی چه ای کارَ کِردی', 'آخر برای چه این کار را کردنی']]"
      ]
     },
     "execution_count": 33,
     "metadata": {},
     "output_type": "execute_result"
    }
   ],
   "source": [
    "luri[:3]"
   ]
  },
  {
   "cell_type": "code",
   "execution_count": 42,
   "metadata": {},
   "outputs": [
    {
     "name": "stdout",
     "output_type": "stream",
     "text": [
      "10930 luri words.\n",
      "4014 unique luri words.\n",
      "10 Most common words in the luri dataset:\n",
      "\"و\" \"یه\" \"ای\" \"من\" \"که\" \"وَ\" \"آدم\" \"سر\" \"ای­کنه\" \"کردن\"\n",
      "\n",
      "13334 farsi words.\n",
      "3284 unique farsi words.\n",
      "10 Most common words in the farsi dataset:\n",
      "\"است\" \"را\" \"به\" \"در\" \"و\" \"از\" \"یک\" \"این\" \"او\" \"کرد\"\n"
     ]
    }
   ],
   "source": [
    "luri_words_counter = collections.Counter([word for lu_fa in luri for word in lu_fa[0].split()])\n",
    "farsi_words_counter = collections.Counter([word for lu_fa in luri for word in lu_fa[1].split()])\n",
    "\n",
    "print('{} luri words.'.format(len([word for lu_fa in luri for word in lu_fa[0].split()])))\n",
    "print('{} unique luri words.'.format(len(luri_words_counter)))\n",
    "print('10 Most common words in the luri dataset:')\n",
    "print('\"' + '\" \"'.join(list(zip(*luri_words_counter.most_common(10)))[0]) + '\"')\n",
    "print()\n",
    "print('{} farsi words.'.format(len([word for lu_fa in luri for word in lu_fa[1].split()])))\n",
    "print('{} unique farsi words.'.format(len(farsi_words_counter)))\n",
    "print('10 Most common words in the farsi dataset:')\n",
    "print('\"' + '\" \"'.join(list(zip(*farsi_words_counter.most_common(10)))[0]) + '\"')"
   ]
  },
  {
   "cell_type": "code",
   "execution_count": null,
   "metadata": {},
   "outputs": [],
   "source": []
  }
 ],
 "metadata": {
  "kernelspec": {
   "display_name": "Python 3.8.10 64-bit",
   "language": "python",
   "name": "python3"
  },
  "language_info": {
   "codemirror_mode": {
    "name": "ipython",
    "version": 3
   },
   "file_extension": ".py",
   "mimetype": "text/x-python",
   "name": "python",
   "nbconvert_exporter": "python",
   "pygments_lexer": "ipython3",
   "version": "3.8.10"
  },
  "orig_nbformat": 4,
  "vscode": {
   "interpreter": {
    "hash": "916dbcbb3f70747c44a77c7bcd40155683ae19c65e1c03b4aa3499c5328201f1"
   }
  }
 },
 "nbformat": 4,
 "nbformat_minor": 2
}
